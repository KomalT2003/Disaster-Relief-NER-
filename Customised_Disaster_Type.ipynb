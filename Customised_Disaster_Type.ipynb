{
  "nbformat": 4,
  "nbformat_minor": 0,
  "metadata": {
    "colab": {
      "provenance": [],
      "authorship_tag": "ABX9TyP8ccJYScYD8v9xHcPxD6TI",
      "include_colab_link": true
    },
    "kernelspec": {
      "name": "python3",
      "display_name": "Python 3"
    },
    "language_info": {
      "name": "python"
    }
  },
  "cells": [
    {
      "cell_type": "markdown",
      "metadata": {
        "id": "view-in-github",
        "colab_type": "text"
      },
      "source": [
        "<a href=\"https://colab.research.google.com/github/KomalT2003/Disaster-Relief-NER-/blob/main/Customised_Disaster_Type.ipynb\" target=\"_parent\"><img src=\"https://colab.research.google.com/assets/colab-badge.svg\" alt=\"Open In Colab\"/></a>"
      ]
    },
    {
      "cell_type": "code",
      "execution_count": 2,
      "metadata": {
        "id": "Txvdz7Kj8P4i"
      },
      "outputs": [],
      "source": [
        "#import the spacy module and re and pandas\n",
        "import spacy\n",
        "import pandas as pd\n",
        "import re\n",
        "#load the required module needed\n",
        "#the en_core_web_small has a faster processing time\n",
        "#tok2vec, tagger, parser, senter, ner, attribute_ruler, lemmatizer.\n",
        "nlp=spacy.load(\"en_core_web_sm\")\n",
        "\n",
        "#get the ner component of the module\n",
        "ner=nlp.get_pipe(\"ner\")\n"
      ]
    },
    {
      "cell_type": "code",
      "source": [
        "LABEL=\"Disaster_Type\"\n",
        "#(\"NV\", {\"entities\": [( 0, 2, \"State_Code\")]}),\n",
        "TRAIN_DATA=[\n",
        "    (\"accident\", {\"entities\": [( 0, 8, \"Disaster_Type\")]}),\n",
        "    (\"forest fire\", {\"entities\" : [( 0, 11, \"Disaster_Type\")]}),\n",
        "    (\"earthquake\", {\"entities\": [( 0, 10, \"Disaster_Type\")]}),\n",
        "    (\"fire\", {\"entities\": [( 0, 4, \"Disaster_Type\")]}),\n",
        "    (\"flood\", {\"entities\": [( 0, 5, \"Disaster_Type\")]}),\n",
        "    (\"ablaze\", {\"entities\": [( 0, 6, \"Disaster_Type\")]}),\n",
        "    (\"accident\", {\"entities\": [( 0, 8, \"Disaster_Type\")]}),\n",
        "    (\"aftershock\", {\"entities\": [( 0, 10, \"Disaster_Type\")]}),\n",
        "    (\"apocalypse\", {\"entities\": [( 0, 10, \"Disaster_Type\")]}),\n",
        "    (\"eruption\", {\"entities\": [( 0, 8, \"Disaster_Type\")]}),\n",
        "    (\"volcano\", {\"entities\": [( 0, 7, \"Disaster_Type\")]}),\n",
        "    (\"volcanic eruption\", {\"entities\": [( 0, 17, \"Disaster_Type\")]}),\n",
        "    (\"army\", {\"entities\": [( 0, 4, \"Disaster_Type\")]}),\n",
        "    (\"arson\", {\"entities\": [( 0, 5, \"Disaster_Type\")]}),\n",
        "    (\"arsonist\", {\"entities\": [( 0, 8, \"Disaster_Type\")]}),\n",
        "    (\"attack\", {\"entities\": [( 0, 6, \"Disaster_Type\")]}),\n",
        "    (\"avalanche\", {\"entities\": [( 0, 9, \"Disaster_Type\")]}),\n",
        "    (\"battle\", {\"entities\": [( 0, 6, \"Disaster_Type\")]}),\n",
        "    (\"war\", {\"entities\": [( 0, 3, \"Disaster_Type\")]}),\n",
        "    (\"terror\", {\"entities\": [( 0, 6, \"Disaster_Type\")]}),\n",
        "    (\"bioterror\", {\"entities\": [( 0, 9, \"Disaster_Type\")]}),\n",
        "    (\"blaze\", {\"entities\": [( 0, 5, \"Disaster_Type\")]}),\n",
        "    (\"blazing\", {\"entities\": [( 0, 7, \"Disaster_Type\")]}),\n",
        "    (\"bleeding\", {\"entities\": [( 0, 8, \"Disaster_Type\")]}),\n",
        "    (\"bleed\", {\"entities\": [( 0, 5, \"Disaster_Type\")]}),\n",
        "    (\"blizzard\", {\"entities\": [( 0, 8, \"Disaster_Type\")]}),\n",
        "    (\"blood\", {\"entities\": [( 0, 5, \"Disaster_Type\")]}),\n",
        "    (\"bloody\", {\"entities\": [( 0, 6, \"Disaster_Type\")]}),\n",
        "    (\"blown\", {\"entities\": [( 0, 5, \"Disaster_Type\")]}),\n",
        "    (\"bomb\", {\"entities\": [( 0, 4, \"Disaster_Type\")]}),\n",
        "    (\"bombing\", {\"entities\": [( 0, 7, \"Disaster_Type\")]}),\n",
        "    (\"blight\", {\"entities\": [( 0, 6, \"Disaster_Type\")]}),\n",
        "    (\"bombed\", {\"entities\": [( 0, 6, \"Disaster_Type\")]}),\n",
        "    (\"bridge collapse\", {\"entities\": [( 0, 15, \"Disaster_Type\")]}),\n",
        "    (\"buildings collapse\", {\"entities\": [( 0, 18, \"Disaster_Type\")]}),\n",
        "    (\"burns\", {\"entities\": [( 0, 5, \"Disaster_Type\")]}),\n",
        "    (\"building burning\", {\"entities\": [( 0, 16, \"Disaster_Type\")]}),\n",
        "    (\"armageddon\", {\"entities\": [( 0, 10, \"Disaster_Type\")]}),\n",
        "    (\"blew up\", {\"entities\": [( 0, 7, \"Disaster_Type\")]}),\n",
        "    (\"blight\", {\"entities\": [( 0, 6, \"Disaster_Type\")]}),\n",
        "    (\"blizzard\", {\"entities\": [( 0, 8, \"Disaster_Type\")]}),\n",
        "    (\"body bags\", {\"entities\": [( 0, 9, \"Disaster_Type\")]}),\n",
        "    (\"casualities\", {\"entities\": [( 0, 11, \"Disaster_Type\")]}),\n",
        "    (\"casualty\", {\"entities\": [( 0, 8, \"Disaster_Type\")]}),\n",
        "    (\"catastrophe\", {\"entities\": [( 0, 11, \"Disaster_Type\")]}),\n",
        "    (\"catastrophic\", {\"entities\": [( 0, 12, \"Disaster_Type\")]}),\n",
        "    (\"chemical emergency\", {\"entities\": [( 0, 18, \"Disaster_Type\")]})\n",
        "\n",
        "]\n"
      ],
      "metadata": {
        "id": "vDKud_5A9aAZ"
      },
      "execution_count": 11,
      "outputs": []
    },
    {
      "cell_type": "code",
      "source": [
        "# Add the new label to ner\n",
        "ner.add_label(LABEL)\n",
        "\n",
        "# Resume training\n",
        "optimizer = nlp.resume_training()\n",
        "move_names = list(ner.move_names)\n",
        "\n",
        "# List of pipes you want to train\n",
        "pipe_exceptions = [\"ner\", \"trf_wordpiecer\", \"trf_tok2vec\"]\n",
        "\n",
        "# List of pipes which should remain unaffected in training\n",
        "other_pipes = [pipe for pipe in nlp.pipe_names if pipe not in pipe_exceptions]"
      ],
      "metadata": {
        "id": "h6H7XKfVB6OR"
      },
      "execution_count": 10,
      "outputs": []
    },
    {
      "cell_type": "code",
      "source": [
        "from spacy.util import minibatch, compounding\n",
        "import random\n",
        "from spacy.training.example import Example\n",
        "\n",
        "# Begin training by disabling other pipeline components\n",
        "with nlp.disable_pipes(*other_pipes):\n",
        "    sizes = compounding(1.0, 4.0, 1.001)\n",
        "    # Training for 25 iterations\n",
        "    for itn in range(25):\n",
        "        # shuffle examples before training\n",
        "        random.shuffle(TRAIN_DATA)\n",
        "        # batch up the examples using spaCy's minibatch\n",
        "        batches = minibatch(TRAIN_DATA, size=sizes)\n",
        "        # Dictionary to store losses\n",
        "        losses = {}\n",
        "        for batch in batches:\n",
        "            texts, annotations = zip(*batch)\n",
        "\n",
        "            example = []\n",
        "            # Update the model with iterating each text\n",
        "            for i in range(len(texts)):\n",
        "                doc = nlp.make_doc(texts[i])\n",
        "                example.append(Example.from_dict(doc, annotations[i]))\n",
        "\n",
        "                # Update the model\n",
        "                nlp.update(example, sgd=optimizer, drop=0.35, losses=losses)\n",
        "        print(\"Losses\", losses)"
      ],
      "metadata": {
        "colab": {
          "base_uri": "https://localhost:8080/"
        },
        "id": "qElJhDXyC7sV",
        "outputId": "191f0efd-013a-48b2-f725-40bab7154c72"
      },
      "execution_count": 13,
      "outputs": [
        {
          "output_type": "stream",
          "name": "stdout",
          "text": [
            "Losses {'ner': 6.112179237441939e-12}\n",
            "Losses {'ner': 3.056274794956624e-12}\n",
            "Losses {'ner': 5.942335176753381e-11}\n",
            "Losses {'ner': 2.0495554066693113e-11}\n",
            "Losses {'ner': 1.4588089804998788e-08}\n",
            "Losses {'ner': 5.378973830188897e-10}\n",
            "Losses {'ner': 6.1527075050071715e-12}\n",
            "Losses {'ner': 8.518062623913096e-13}\n",
            "Losses {'ner': 2.1411527052895873e-12}\n",
            "Losses {'ner': 8.992294614346263e-12}\n",
            "Losses {'ner': 5.967773670661297e-10}\n",
            "Losses {'ner': 3.875910840695854e-09}\n",
            "Losses {'ner': 1.7596520128946057e-08}\n",
            "Losses {'ner': 8.777839199224299e-11}\n",
            "Losses {'ner': 2.83533348026649e-12}\n",
            "Losses {'ner': 1.5430218011480939e-09}\n",
            "Losses {'ner': 9.381912942496835e-12}\n",
            "Losses {'ner': 5.681031524127291e-09}\n",
            "Losses {'ner': 4.0701207109189536e-10}\n",
            "Losses {'ner': 2.8099234459290567e-11}\n",
            "Losses {'ner': 4.9292048364786106e-11}\n",
            "Losses {'ner': 1.0699285937474799e-06}\n",
            "Losses {'ner': 2.6146467711219557e-08}\n",
            "Losses {'ner': 3.581355958665438e-11}\n",
            "Losses {'ner': 1.5532117968714522e-11}\n"
          ]
        }
      ]
    }
  ]
}