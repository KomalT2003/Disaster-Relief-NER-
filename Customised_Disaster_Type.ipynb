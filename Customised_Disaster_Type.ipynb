{
  "nbformat": 4,
  "nbformat_minor": 0,
  "metadata": {
    "colab": {
      "provenance": [],
      "authorship_tag": "ABX9TyNekW/7aHyL1+ScPKru5CtN",
      "include_colab_link": true
    },
    "kernelspec": {
      "name": "python3",
      "display_name": "Python 3"
    },
    "language_info": {
      "name": "python"
    }
  },
  "cells": [
    {
      "cell_type": "markdown",
      "metadata": {
        "id": "view-in-github",
        "colab_type": "text"
      },
      "source": [
        "<a href=\"https://colab.research.google.com/github/KomalT2003/Disaster-Relief-NER-/blob/main/Customised_Disaster_Type.ipynb\" target=\"_parent\"><img src=\"https://colab.research.google.com/assets/colab-badge.svg\" alt=\"Open In Colab\"/></a>"
      ]
    },
    {
      "cell_type": "code",
      "execution_count": 2,
      "metadata": {
        "id": "Txvdz7Kj8P4i"
      },
      "outputs": [],
      "source": [
        "#import the spacy module and re and pandas\n",
        "import spacy\n",
        "import pandas as pd\n",
        "import re\n",
        "#load the required module needed\n",
        "#the en_core_web_small has a faster processing time\n",
        "#tok2vec, tagger, parser, senter, ner, attribute_ruler, lemmatizer.\n",
        "nlp=spacy.load(\"en_core_web_sm\")\n",
        "\n",
        "#get the ner component of the module\n",
        "ner=nlp.get_pipe(\"ner\")\n"
      ]
    },
    {
      "cell_type": "code",
      "source": [
        "LABEL=\"Disaster_Type\"\n",
        "#(\"NV\", {\"entities\": [( 0, 2, \"State_Code\")]}),\n",
        "TRAIN_DATA=[\n",
        "    (\"accident\", {\"entities\": [( 0, 8, \"Disaster_Type\")]}),\n",
        "    (\"forest fire\", {\"entities\" : [( 0, 11, \"Disaster_Type\")]}),\n",
        "    (\"earthquake\", {\"entities\": [( 0, 10, \"Disaster_Type\")]}),\n",
        "    (\"fire\", {\"entities\": [( 0, 4, \"Disaster_Type\")]}),\n",
        "    (\"flood\", {\"entities\": [( 0, 5, \"Disaster_Type\")]}),\n",
        "    (\"ablaze\", {\"entities\": [( 0, 6, \"Disaster_Type\")]}),\n",
        "    (\"accident\", {\"entities\": [( 0, 8, \"Disaster_Type\")]}),\n",
        "    (\"aftershock\", {\"entities\": [( 0, 10, \"Disaster_Type\")]}),\n",
        "    (\"apocalypse\", {\"entities\": [( 0, 10, \"Disaster_Type\")]}),\n",
        "    (\"eruption\", {\"entities\": [( 0, 8, \"Disaster_Type\")]}),\n",
        "    (\"volcano\", {\"entities\": [( 0, 7, \"Disaster_Type\")]}),\n",
        "    (\"volcanic eruption\", {\"entities\": [( 0, 17, \"Disaster_Type\")]}),\n",
        "    (\"army\", {\"entities\": [( 0, 4, \"Disaster_Type\")]}),\n",
        "    (\"arson\", {\"entities\": [( 0, 5, \"Disaster_Type\")]}),\n",
        "    (\"arsonist\", {\"entities\": [( 0, 8, \"Disaster_Type\")]}),\n",
        "    (\"attack\", {\"entities\": [( 0, 6, \"Disaster_Type\")]}),\n",
        "    (\"avalanche\", {\"entities\": [( 0, 9, \"Disaster_Type\")]}),\n",
        "\n",
        "    (\"battle\", {\"entities\": [( 0, 6, \"Disaster_Type\")]}),\n",
        "    (\"war\", {\"entities\": [( 0, 3, \"Disaster_Type\")]}),\n",
        "    (\"terror\", {\"entities\": [( 0, 6, \"Disaster_Type\")]}),\n",
        "    (\"bioterror\", {\"entities\": [( 0, 9, \"Disaster_Type\")]}),\n",
        "\n",
        "    (\"blaze\", {\"entities\": [( 0, 5, \"Disaster_Type\")]}),\n",
        "    (\"blazing\", {\"entities\": [( 0, 7, \"Disaster_Type\")]}),\n",
        "    (\"bleeding\", {\"entities\": [( 0, 8, \"Disaster_Type\")]}),\n",
        "    (\"bleed\", {\"entities\": [( 0, 5, \"Disaster_Type\")]}),\n",
        "    (\"blizzard\", {\"entities\": [( 0, 8, \"Disaster_Type\")]}),\n",
        "    (\"blood\", {\"entities\": [( 0, 5, \"Disaster_Type\")]}),\n",
        "    (\"bloody\", {\"entities\": [( 0, 6, \"Disaster_Type\")]}),\n",
        "    (\"blown\", {\"entities\": [( 0, 5, \"Disaster_Type\")]}),\n",
        "    (\"bomb\", {\"entities\": [( 0, 4, \"Disaster_Type\")]}),\n",
        "    (\"bombing\", {\"entities\": [( 0, 7, \"Disaster_Type\")]}),\n",
        "    (\"blight\", {\"entities\": [( 0, 6, \"Disaster_Type\")]}),\n",
        "    (\"bombed\", {\"entities\": [( 0, 6, \"Disaster_Type\")]}),\n",
        "    (\"bridge collapse\", {\"entities\": [( 0, 15, \"Disaster_Type\")]}),\n",
        "    (\"buildings collapse\", {\"entities\": [( 0, 18, \"Disaster_Type\")]}),\n",
        "    (\"burns\", {\"entities\": [( 0, 5, \"Disaster_Type\")]}),\n",
        "    (\"building burning\", {\"entities\": [( 0, 16, \"Disaster_Type\")]}),\n",
        "\n",
        "    (\"armageddon\", {\"entities\": [( 0, 10, \"Disaster_Type\")]}),\n",
        "    (\"blew up\", {\"entities\": [( 0, 7, \"Disaster_Type\")]}),\n",
        "    (\"blight\", {\"entities\": [( 0, 6, \"Disaster_Type\")]}),\n",
        "    (\"blizzard\", {\"entities\": [( 0, 8, \"Disaster_Type\")]}),\n",
        "    (\"body bags\", {\"entities\": [( 0, 9, \"Disaster_Type\")]}),\n",
        "    (\"casualities\", {\"entities\": [( 0, 11, \"Disaster_Type\")]}),\n",
        "    (\"casualty\", {\"entities\": [( 0, 8, \"Disaster_Type\")]}),\n",
        "    (\"catastrophe\", {\"entities\": [( 0, 11, \"Disaster_Type\")]}),\n",
        "    (\"catastrophic\", {\"entities\": [( 0, 12, \"Disaster_Type\")]}),\n",
        "    (\"chemical emergency\", {\"entities\": [( 0, 18, \"Disaster_Type\")]})\n",
        "\n",
        "]\n"
      ],
      "metadata": {
        "id": "vDKud_5A9aAZ"
      },
      "execution_count": 6,
      "outputs": []
    },
    {
      "cell_type": "code",
      "source": [
        "# Add the new label to ner\n",
        "ner.add_label(LABEL)\n",
        "\n",
        "# Resume training\n",
        "optimizer = nlp.resume_training()\n",
        "move_names = list(ner.move_names)\n",
        "\n",
        "# List of pipes you want to train\n",
        "pipe_exceptions = [\"ner\", \"trf_wordpiecer\", \"trf_tok2vec\"]\n",
        "\n",
        "# List of pipes which should remain unaffected in training\n",
        "other_pipes = [pipe for pipe in nlp.pipe_names if pipe not in pipe_exceptions]"
      ],
      "metadata": {
        "id": "h6H7XKfVB6OR"
      },
      "execution_count": 10,
      "outputs": []
    }
  ]
}